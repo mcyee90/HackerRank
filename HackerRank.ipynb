{
 "cells": [
  {
   "cell_type": "code",
   "execution_count": 2,
   "metadata": {},
   "outputs": [],
   "source": [
    "# Algorithms: Solve Me First\n",
    "def solveMeFirst(a,b):\n",
    "    return a+b"
   ]
  },
  {
   "cell_type": "code",
   "execution_count": null,
   "metadata": {},
   "outputs": [],
   "source": [
    "# Algorithms: Compare Triplets\n",
    "def compareTriplets(a, b):\n",
    "    alice = 0\n",
    "    bob = 0\n",
    "    tie = 0\n",
    "    for i in list(range(len(a))):\n",
    "        if a[i] > b[i]:\n",
    "            alice = alice + 1\n",
    "        elif a[i] == b[i]:\n",
    "            tie = tie + 1\n",
    "        elif a[i] < b[i]:\n",
    "            bob = bob + 1\n",
    "    return alice, bob"
   ]
  },
  {
   "cell_type": "code",
   "execution_count": 3,
   "metadata": {},
   "outputs": [],
   "source": [
    "# Algorithms: Simple Array Sum\n",
    "def simpleArraySum(ar):\n",
    "    total = sum(ar)\n",
    "    return total"
   ]
  },
  {
   "cell_type": "code",
   "execution_count": null,
   "metadata": {},
   "outputs": [],
   "source": [
    "# Algorithms: A Very Big Sum\n",
    "def aVeryBigSum(ar):\n",
    "    total = sum(ar)\n",
    "    return total"
   ]
  },
  {
   "cell_type": "code",
   "execution_count": 21,
   "metadata": {},
   "outputs": [],
   "source": [
    "# Algorithms: Diagonal Difference\n",
    "# def diagonalDifference(arr):\n",
    "def diagonalDifference(arr):\n",
    "    lr = 0\n",
    "    rl = 0\n",
    "    for x in list(range(len(arr))):\n",
    "        lr = lr + arr[x][x]\n",
    "        rl = rl + arr[x][len(arr)-1-x]\n",
    "    diff = abs(lr-rl)\n",
    "    return diff"
   ]
  },
  {
   "cell_type": "code",
   "execution_count": 1,
   "metadata": {},
   "outputs": [],
   "source": [
    "# Algorithms: Plus Minus\n",
    "\n",
    "def plusMinus(arr):\n",
    "    total = len(arr)\n",
    "    zero = 0\n",
    "    pos = 0\n",
    "    neg = 0\n",
    "    for num in arr:\n",
    "        if num == 0:\n",
    "            zero = zero + 1\n",
    "        elif num > 0:\n",
    "            pos = pos + 1\n",
    "        elif num < 0:\n",
    "            neg = neg + 1\n",
    "    print('{0:.4f}'.format(float(pos/total)), '{0:.4f}'.format(float(neg/total)), '{0:.4f}'.format(float(zero/total)), sep=\"\\n\")"
   ]
  },
  {
   "cell_type": "code",
   "execution_count": 33,
   "metadata": {},
   "outputs": [],
   "source": [
    "def staircase(n):\n",
    "    for i in list(range(1,n+1)):\n",
    "        print ((n-i)*\" \" + (i)*\"#\")"
   ]
  },
  {
   "cell_type": "code",
   "execution_count": 46,
   "metadata": {},
   "outputs": [],
   "source": [
    "#def miniMaxSum(arr):\n",
    "\n",
    "def minmax(arr):\n",
    "    sums = []\n",
    "    for n in list(range(len(arr))):\n",
    "        sums.append(sum(arr)-arr[n])\n",
    "    print (str(min(sums)) + ' ' + str(max(sums)))"
   ]
  },
  {
   "cell_type": "code",
   "execution_count": 49,
   "metadata": {},
   "outputs": [],
   "source": [
    "def birthdayCakeCandles(ar):\n",
    "    maxHeight = max(ar)\n",
    "    count = 0\n",
    "    for c in ar:\n",
    "        if c == maxHeight:\n",
    "            count = count + 1\n",
    "    return count"
   ]
  },
  {
   "cell_type": "code",
   "execution_count": 89,
   "metadata": {},
   "outputs": [],
   "source": [
    "from datetime import datetime\n",
    "def timeConversion(s):\n",
    "#     t = s[:8].split(\":\")\n",
    "#     if s[8] == \"P\":\n",
    "#         t[0] = \"{}\".format(int(t[0]) + 12)\n",
    "#     if t[0] == \"12\" and s[8] == \"A\":\n",
    "#         t[0] = \"00\"\n",
    "#     print (\"{}\".format(t[0]+\":\"+t[1]+\":\"+t[2]))\n",
    "    return datetime.strptime(s, '%I:%M:%S%p').strftime('%H:%M:%S')\n",
    "\n",
    "\n",
    "    "
   ]
  },
  {
   "cell_type": "code",
   "execution_count": 90,
   "metadata": {},
   "outputs": [
    {
     "data": {
      "text/plain": [
       "'19:05:45'"
      ]
     },
     "execution_count": 90,
     "metadata": {},
     "output_type": "execute_result"
    }
   ],
   "source": [
    "timeConversion(\"07:05:45PM\")"
   ]
  },
  {
   "cell_type": "code",
   "execution_count": 79,
   "metadata": {},
   "outputs": [
    {
     "name": "stdout",
     "output_type": "stream",
     "text": [
      "00:05:45\n"
     ]
    }
   ],
   "source": []
  },
  {
   "cell_type": "code",
   "execution_count": null,
   "metadata": {},
   "outputs": [],
   "source": []
  }
 ],
 "metadata": {
  "kernelspec": {
   "display_name": "Python 3",
   "language": "python",
   "name": "python3"
  },
  "language_info": {
   "codemirror_mode": {
    "name": "ipython",
    "version": 3
   },
   "file_extension": ".py",
   "mimetype": "text/x-python",
   "name": "python",
   "nbconvert_exporter": "python",
   "pygments_lexer": "ipython3",
   "version": "3.6.5"
  }
 },
 "nbformat": 4,
 "nbformat_minor": 2
}
